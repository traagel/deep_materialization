{
 "cells": [
  {
   "cell_type": "markdown",
   "id": "e94a59ee",
   "metadata": {},
   "source": [
    "## Introduction\n",
    "\n",
    "In this notebook, we will be building a model to predict drug interactions on the [ogbl-ddi](https://ogb.stanford.edu/docs/linkprop/#ogbl-ddi) drug-drug interaction network and trying to match performance to the OGB Leaderboard for Link Property Prediction. Once we can re-create this using a baseline GraphSAGE architecture, we will substantially increase performance by adding [Jumping Knowledge](https://arxiv.org/abs/1806.03536) connections.\n",
    "\n",
    "## What you need to do\n",
    "### Basics\n",
    "\n",
    "We'll start by implementing the GNN encoder model by stacking GraphSAGE layers to create node embeddings.  We'll then implement the Link Prediction decoder model, which takes two node embeddings as input and predicts whether or not those two nodes share an edge in the graph.  Sections you need to write code for will be marked with a \"TODO\" comment. For ease of troubleshooting, do not modify any of the code except where indicated until after the basics have been achieved.  We will also import functionality from the `utils.py` script.  No changes should be necessary to this file.\n",
    "\n",
    "### Improvements\n",
    "\n",
    "Once you have a correct implementation and can match leaderboard performance, we can move on to experimentation. In this section, we will implement Jumping Knowledge connections, which allows the GNN model to jointly consider information from multiple distances in the graph and gives substantial improvements above baseline GraphSAGE.\n",
    "\n",
    "### Statistics\n",
    "\n",
    "In each section, the `repeat_experiments` function is used to run the same model building process multiple times to collect statistics since there is significant variation in performance from run-to-run.  This allows us to make apples-to-apples comparisons to the leaderboard, but this process takes significant time.  Feel free to reduce from the default setup of 10 experiments with 200 epochs each to something much smaller (e.g., 1 experiment with 10 epochs) until you're confident in the implementation.\n",
    "\n",
    "\n",
    "### Extra Credit\n",
    "\n",
    "A great way to learn is to 1) read other peoples' code and 2) tinker. If you want to maximize your learning, the Extra Credit section will provide a few directions for further exploration. As part of this, it's recommended you find another submission on the OGB Leaderboard and try to re-create its submission. This will likely involve reading the paper and code, which is great practice. If you do something interesting and novel, we'll kindly host it in a public repo as an example of your glory (if you wish).\n",
    "\n",
    "\n",
    "## Boilerplate"
   ]
  },
  {
   "cell_type": "code",
   "execution_count": 1,
   "id": "d166bd70",
   "metadata": {
    "pycharm": {
     "is_executing": true
    }
   },
   "outputs": [],
   "source": [
    "import os, sys\n",
    "import math\n",
    "from copy import deepcopy\n",
    "from pathlib import Path\n",
    "import numpy as np\n",
    "import pandas as pd\n",
    "from scipy import stats\n",
    "\n",
    "import torch as th\n",
    "import torch.nn as nn\n",
    "from torch import optim\n",
    "import torch.nn.functional as F\n",
    "\n",
    "import matplotlib.pyplot as plt\n",
    "#%matplotlib inline"
   ]
  },
  {
   "cell_type": "markdown",
   "id": "16a52c68",
   "metadata": {},
   "source": []
  },
  {
   "cell_type": "code",
   "execution_count": 2,
   "id": "92c16c7c",
   "metadata": {
    "pycharm": {
     "is_executing": true
    }
   },
   "outputs": [
    {
     "name": "stdout",
     "output_type": "stream",
     "text": [
      "Torch version: 1.13.1+cpu.  CUDA version: None\n"
     ]
    }
   ],
   "source": [
    "print(f\"Torch version: {th.__version__}.  CUDA version: {th.version.cuda}\")"
   ]
  },
  {
   "cell_type": "code",
   "execution_count": 3,
   "id": "699f0e4b",
   "metadata": {
    "pycharm": {
     "is_executing": true
    }
   },
   "outputs": [
    {
     "name": "stdout",
     "output_type": "stream",
     "text": [
      "Looking in links: https://data.dgl.ai/wheels/repo.html\n"
     ]
    },
    {
     "name": "stderr",
     "output_type": "stream",
     "text": [
      "ERROR: Could not find a version that satisfies the requirement dgl-cu101 (from versions: none)\n",
      "ERROR: No matching distribution found for dgl-cu101\n"
     ]
    }
   ],
   "source": [
    "# Follow instructions at https://www.dgl.ai/pages/start.html\n",
    "!{sys.executable} -m pip install dgl-cu101 -f https://data.dgl.ai/wheels/repo.html"
   ]
  },
  {
   "cell_type": "code",
   "execution_count": 4,
   "id": "62fdca27",
   "metadata": {
    "pycharm": {
     "is_executing": true
    },
    "scrolled": true
   },
   "outputs": [
    {
     "name": "stdout",
     "output_type": "stream",
     "text": [
      "Collecting ogb\n",
      "  Downloading ogb-1.3.5-py3-none-any.whl (78 kB)\n",
      "     ---------------------------------------- 78.6/78.6 kB 2.2 MB/s eta 0:00:00\n",
      "Requirement already satisfied: pandas>=0.24.0 in c:\\users\\martt\\anaconda3\\envs\\deep_materialization\\lib\\site-packages (from ogb) (1.5.3)\n",
      "Collecting outdated>=0.2.0\n",
      "  Downloading outdated-0.2.2-py2.py3-none-any.whl (7.5 kB)\n",
      "Collecting scikit-learn>=0.20.0\n",
      "  Downloading scikit_learn-1.2.0-cp310-cp310-win_amd64.whl (8.2 MB)\n",
      "     ---------------------------------------- 8.2/8.2 MB 17.0 MB/s eta 0:00:00\n",
      "Requirement already satisfied: numpy>=1.16.0 in c:\\users\\martt\\anaconda3\\envs\\deep_materialization\\lib\\site-packages (from ogb) (1.24.1)\n",
      "Requirement already satisfied: torch>=1.6.0 in c:\\users\\martt\\anaconda3\\envs\\deep_materialization\\lib\\site-packages (from ogb) (1.13.1)\n",
      "Requirement already satisfied: six>=1.12.0 in c:\\users\\martt\\anaconda3\\envs\\deep_materialization\\lib\\site-packages (from ogb) (1.16.0)\n",
      "Requirement already satisfied: urllib3>=1.24.0 in c:\\users\\martt\\anaconda3\\envs\\deep_materialization\\lib\\site-packages (from ogb) (1.26.14)\n",
      "Requirement already satisfied: tqdm>=4.29.0 in c:\\users\\martt\\anaconda3\\envs\\deep_materialization\\lib\\site-packages (from ogb) (4.64.1)\n",
      "Requirement already satisfied: requests in c:\\users\\martt\\anaconda3\\envs\\deep_materialization\\lib\\site-packages (from outdated>=0.2.0->ogb) (2.28.1)\n",
      "Collecting littleutils\n",
      "  Downloading littleutils-0.2.2.tar.gz (6.6 kB)\n",
      "  Preparing metadata (setup.py): started\n",
      "  Preparing metadata (setup.py): finished with status 'done'\n",
      "Requirement already satisfied: setuptools>=44 in c:\\users\\martt\\anaconda3\\envs\\deep_materialization\\lib\\site-packages (from outdated>=0.2.0->ogb) (65.6.3)\n",
      "Requirement already satisfied: pytz>=2020.1 in c:\\users\\martt\\anaconda3\\envs\\deep_materialization\\lib\\site-packages (from pandas>=0.24.0->ogb) (2022.7)\n",
      "Requirement already satisfied: python-dateutil>=2.8.1 in c:\\users\\martt\\anaconda3\\envs\\deep_materialization\\lib\\site-packages (from pandas>=0.24.0->ogb) (2.8.2)\n",
      "Requirement already satisfied: scipy>=1.3.2 in c:\\users\\martt\\anaconda3\\envs\\deep_materialization\\lib\\site-packages (from scikit-learn>=0.20.0->ogb) (1.10.0)\n",
      "Collecting threadpoolctl>=2.0.0\n",
      "  Downloading threadpoolctl-3.1.0-py3-none-any.whl (14 kB)\n",
      "Collecting joblib>=1.1.1\n",
      "  Downloading joblib-1.2.0-py3-none-any.whl (297 kB)\n",
      "     ------------------------------------- 298.0/298.0 kB 18.0 MB/s eta 0:00:00\n",
      "Requirement already satisfied: typing-extensions in c:\\users\\martt\\anaconda3\\envs\\deep_materialization\\lib\\site-packages (from torch>=1.6.0->ogb) (4.4.0)\n",
      "Requirement already satisfied: colorama in c:\\users\\martt\\anaconda3\\envs\\deep_materialization\\lib\\site-packages (from tqdm>=4.29.0->ogb) (0.4.6)\n",
      "Requirement already satisfied: charset-normalizer<3,>=2 in c:\\users\\martt\\anaconda3\\envs\\deep_materialization\\lib\\site-packages (from requests->outdated>=0.2.0->ogb) (2.0.4)\n",
      "Requirement already satisfied: certifi>=2017.4.17 in c:\\users\\martt\\anaconda3\\envs\\deep_materialization\\lib\\site-packages (from requests->outdated>=0.2.0->ogb) (2022.12.7)\n",
      "Requirement already satisfied: idna<4,>=2.5 in c:\\users\\martt\\anaconda3\\envs\\deep_materialization\\lib\\site-packages (from requests->outdated>=0.2.0->ogb) (3.4)\n",
      "Building wheels for collected packages: littleutils\n",
      "  Building wheel for littleutils (setup.py): started\n",
      "  Building wheel for littleutils (setup.py): finished with status 'done'\n",
      "  Created wheel for littleutils: filename=littleutils-0.2.2-py3-none-any.whl size=7028 sha256=368557f52d78d2a046fb913f84b5ca613ee0f9f4741d03e6743dd485e0d4f8fd\n",
      "  Stored in directory: c:\\users\\martt\\appdata\\local\\pip\\cache\\wheels\\e0\\3b\\9c\\d55ff5bc6cfbe70537c4731a22f2ee2462c2e5010b56ac9726\n",
      "Successfully built littleutils\n",
      "Installing collected packages: littleutils, threadpoolctl, joblib, scikit-learn, outdated, ogb\n",
      "Successfully installed joblib-1.2.0 littleutils-0.2.2 ogb-1.3.5 outdated-0.2.2 scikit-learn-1.2.0 threadpoolctl-3.1.0\n"
     ]
    }
   ],
   "source": [
    "!{sys.executable} -m pip install ogb"
   ]
  },
  {
   "cell_type": "code",
   "execution_count": 6,
   "id": "682318a5",
   "metadata": {
    "pycharm": {
     "is_executing": true
    }
   },
   "outputs": [],
   "source": [
    "os.environ['DGLBACKEND'] = 'pytorch'\n",
    "import dgl\n",
    "from dgl.nn import SAGEConv, GraphConv\n",
    "from dgl.dataloading import negative_sampler\n",
    "import dgl.function as fn\n",
    "from ogb.linkproppred import DglLinkPropPredDataset, Evaluator"
   ]
  },
  {
   "cell_type": "code",
   "execution_count": 7,
   "id": "762bb439",
   "metadata": {
    "pycharm": {
     "is_executing": true
    }
   },
   "outputs": [
    {
     "data": {
      "text/plain": [
       "'0.9.1'"
      ]
     },
     "execution_count": 7,
     "metadata": {},
     "output_type": "execute_result"
    }
   ],
   "source": [
    "dgl.__version__"
   ]
  },
  {
   "cell_type": "code",
   "execution_count": 8,
   "id": "cd4a44e4",
   "metadata": {
    "pycharm": {
     "is_executing": true
    }
   },
   "outputs": [
    {
     "data": {
      "text/plain": [
       "device(type='cpu')"
      ]
     },
     "execution_count": 8,
     "metadata": {},
     "output_type": "execute_result"
    }
   ],
   "source": [
    "device = 'cuda' if th.cuda.is_available() else 'cpu'\n",
    "device = th.device(device)\n",
    "device"
   ]
  },
  {
   "cell_type": "markdown",
   "id": "a31fbd68",
   "metadata": {},
   "source": [
    "## Helper functions"
   ]
  },
  {
   "cell_type": "code",
   "execution_count": 9,
   "id": "fc96a329",
   "metadata": {
    "pycharm": {
     "is_executing": true
    }
   },
   "outputs": [],
   "source": [
    "%load_ext autoreload\n",
    "%autoreload 2"
   ]
  },
  {
   "cell_type": "code",
   "execution_count": 10,
   "id": "6ceb42a2",
   "metadata": {
    "pycharm": {
     "is_executing": true
    }
   },
   "outputs": [],
   "source": [
    "from utils import repeat_experiments, SAGE, norm_plot"
   ]
  },
  {
   "cell_type": "markdown",
   "id": "25c3f476",
   "metadata": {},
   "source": [
    "# Basics\n",
    "## Get OGB dataset and GraphSAGE leaderboard performance\n",
    "We will use the `ogb` python package to download the data, give us the correct train/validation/test splits for proper comparison and an `Evaluator` to make sure performance is measured appropriately.  "
   ]
  },
  {
   "cell_type": "code",
   "execution_count": 11,
   "id": "69c7d040",
   "metadata": {
    "pycharm": {
     "is_executing": true
    }
   },
   "outputs": [
    {
     "name": "stdout",
     "output_type": "stream",
     "text": [
      "Downloading http://snap.stanford.edu/ogb/data/linkproppred/ddi.zip\n"
     ]
    },
    {
     "name": "stderr",
     "output_type": "stream",
     "text": [
      "Downloaded 0.04 GB: 100%|██████████| 46/46 [00:14<00:00,  3.19it/s]\n"
     ]
    },
    {
     "name": "stdout",
     "output_type": "stream",
     "text": [
      "Extracting dataset/ddi.zip\n",
      "Loading necessary files...\n",
      "This might take a while.\n",
      "Processing graphs...\n"
     ]
    },
    {
     "name": "stderr",
     "output_type": "stream",
     "text": [
      "100%|██████████| 1/1 [00:00<00:00, 49.95it/s]\n"
     ]
    },
    {
     "name": "stdout",
     "output_type": "stream",
     "text": [
      "Converting graphs into DGL objects...\n"
     ]
    },
    {
     "name": "stderr",
     "output_type": "stream",
     "text": [
      "100%|██████████| 1/1 [00:00<00:00, 166.53it/s]"
     ]
    },
    {
     "name": "stdout",
     "output_type": "stream",
     "text": [
      "Saving...\n"
     ]
    },
    {
     "name": "stderr",
     "output_type": "stream",
     "text": [
      "\n"
     ]
    }
   ],
   "source": [
    "dataset = DglLinkPropPredDataset(name=\"ogbl-ddi\", root = 'dataset/')"
   ]
  },
  {
   "cell_type": "code",
   "execution_count": 12,
   "id": "ef6c8b1d",
   "metadata": {
    "pycharm": {
     "is_executing": true
    }
   },
   "outputs": [],
   "source": [
    "# Values from the OGB leaderboard of GraphSAGE, submitted June 25, 2020\n",
    "# HITS@20:  VAL = 0.6262 ± 0.0037;  TEST = 0.5390 ± 0.0474\n",
    "val_hits_lb, val_hits_lb_std, test_hits_lb, test_hits_lb_std = 0.6262, 0.0037, 0.5390, 0.0474\n",
    "evaluator = Evaluator(name = \"ogbl-ddi\")"
   ]
  },
  {
   "cell_type": "code",
   "execution_count": 13,
   "id": "44861890",
   "metadata": {
    "pycharm": {
     "is_executing": true
    }
   },
   "outputs": [],
   "source": [
    "# Extract split indices, DGL graph and labels\n",
    "split_idx = dataset.get_edge_split()\n",
    "g = dataset.graph[0]"
   ]
  },
  {
   "cell_type": "code",
   "execution_count": 14,
   "id": "1c6183eb",
   "metadata": {
    "pycharm": {
     "is_executing": true
    }
   },
   "outputs": [],
   "source": [
    "src_orig, dst_orig = g.edges()\n",
    "src_orig = src_orig.clone()\n",
    "dst_orig = dst_orig.clone()"
   ]
  },
  {
   "cell_type": "code",
   "execution_count": 15,
   "id": "18f68d98",
   "metadata": {
    "pycharm": {
     "is_executing": true
    }
   },
   "outputs": [],
   "source": [
    "# Use a portion of the training edges for periodic evaluation\n",
    "th.manual_seed(12345)\n",
    "idx = th.randperm(split_idx['train']['edge'].size(0))\n",
    "idx = idx[:split_idx['valid']['edge'].size(0)]\n",
    "split_idx['eval_train'] = {'edge': split_idx['train']['edge'][idx]}"
   ]
  },
  {
   "cell_type": "code",
   "execution_count": null,
   "id": "0589994f",
   "metadata": {
    "pycharm": {
     "is_executing": true
    }
   },
   "outputs": [],
   "source": [
    "g"
   ]
  },
  {
   "cell_type": "code",
   "execution_count": null,
   "id": "0e235011",
   "metadata": {
    "pycharm": {
     "is_executing": true
    }
   },
   "outputs": [],
   "source": [
    "dataset.meta_info"
   ]
  },
  {
   "cell_type": "code",
   "execution_count": 28,
   "id": "a788fa19",
   "metadata": {},
   "outputs": [],
   "source": [
    "# Make sure none of the validation/test edges are in the graph used for training\n",
    "assert g.has_edges_between(split_idx['valid']['edge'][:,0], split_idx['valid']['edge'][:,1]).sum().item()==0\n",
    "assert g.has_edges_between(split_idx['test']['edge'][:,0], split_idx['test']['edge'][:,1]).sum().item()==0"
   ]
  },
  {
   "cell_type": "markdown",
   "id": "a0be27a9",
   "metadata": {},
   "source": [
    "## Approach overview\n",
    "We will use a GNN for creating node embeddings, and then use a final Link Predictor model that takes a pair of embeddings as input and returns a prediction for whether or not those two nodes share an edge. \n",
    "\n",
    "We are going to train our model end-to-end by having it distinguish between true edges found in our training graph (i.e., \"positive samples\") and fake edges we generate by pairing random nodes (i.e., \"negative samples\").  We treat this \"real vs fake\" edge prediction task as a binary classification problem by giving the true edges a $y=1$ label and fake edges a $y=0$ label.  This is known as \"contrastive loss\".  For each minibatch, the training loop is like this:\n",
    "\n",
    "- Calculate node embeddings for every node using the current GNN model parameters\n",
    "  - This is standard message passing on the graph using the *training edges only*.  No edges from the validation/test set or fake edges are part of this message passing graph.\n",
    "- Randomly sample a set of training edges (i.e., pairs of nodes in the training set) to construct the _positive samples_ and generate fake edges by randomly pairing nodes in the graph to construct the _negative samples_.  \n",
    "  - In both cases, an edge sample is a pair of nodes like `(source_nodeId, destination_nodeId)`.\n",
    "- Look-up the node embeddings for each of the source and destination nodes in the positive and negative samples\n",
    "- Using the node embedding pairs and Link Predictor model, generate predictions for both the positive and negative edges: `pos_out` and `neg_out`, which represent probabilities that the node pairs have an edge in the graph\n",
    "- Calculate a Binary Cross-Entropy loss where the positive edges have a label of 1 and negative a label of 0: \n",
    "\n",
    "$$ loss = -th.log(pos\\_out).mean() - th.log(1 - neg\\_out).mean() $$\n",
    "\n",
    "\n",
    "In the above, I emphasize that the message passing graph is distinct from the edge-set we use for supervision and evaluation with the Link Predictor.  More specifically, the message passing graph uses the positive training edges only and does not have access to the validation/test edges nor does it use the negative edges for message passing.  The message passing graph is just used to calculate embeddings for the nodes.  The edge-set used for supervision and evaluation are a distinct concept: these are the node pairings sent to the Link Predictor and have implicit labels of \"real or fake\" that we can use for training and evaluation.  \n",
    "\n",
    "Note that it's a form of information leak if you include an edge in message passing that you're also trying to use for prediction/supervision.  In a real-life scenario where you're trying to predict new edges, you will not have that edge as part of the graph to use in a message passing operation.\n",
    "\n",
    "\n",
    "### Data description\n",
    "This dataset consists of a homogeneous graph of 4k drug nodes and 1.3M edges that represent interactions in which taking the two drugs together gives a substantially different effect than taking them independently.  The edges are split into train, validation and test based on the proteins the drugs are designed to target in the body.  This means the drugs in the test set work differently than those in training and validation.  More details on the particulars of the dataset can be found on the [OGB dataset page](https://ogb.stanford.edu/docs/linkprop/#ogbl-ddi).\n",
    "\n",
    "## Model\n",
    "### Node Features\n",
    "In this case our drug nodes do not have natural features and we use 256-dimensional learnable features for each node.  These are input to the GNN to calculate embeddings and are jointly learned with the model parameters."
   ]
  },
  {
   "cell_type": "code",
   "execution_count": 29,
   "id": "b509ecf5",
   "metadata": {},
   "outputs": [],
   "source": [
    "num_hidden = 256\n",
    "emb = nn.Embedding(g.num_nodes(), num_hidden)"
   ]
  },
  {
   "cell_type": "code",
   "execution_count": 34,
   "id": "f0d62b1b",
   "metadata": {},
   "outputs": [],
   "source": [
    "assert sum(p.numel() for p in emb.parameters()) == 1092352, \"Number of embedding parameters doesn't match\""
   ]
  },
  {
   "cell_type": "markdown",
   "id": "edbcd341",
   "metadata": {},
   "source": [
    "### GNN model architecture\n",
    "Using the learnable features as input, the GNN model is a 2-layered GraphSAGE architecture where each layer $k$ updates the embedding $\\mathbf{h}$ for node $i$ using the following equation:\n",
    "\n",
    "$$\\mathbf{h}^{(k+1)}_i = \\sigma \\left ( \\mathbf{W}^{(k)}\\text{concat} \\left ( \\mathbf{h}_i^{(k)}, \\frac{1}{\\left | \\mathcal{N}_i \\right |}\\sum_{j \\in \\mathcal{N}_i}\\mathbf{h}_{j}^{(k)}  \\right ) \\right )$$\n",
    "\n",
    "This averages the neighborhood features $\\frac{1}{\\left | \\mathcal{N}_i \\right |}\\sum_{j \\in \\mathcal{N}_i}\\mathbf{h}_{j}^{(k)}$, concatenates to the current destination node embedding $\\mathbf{h}_{i}^{(k)}$, applies a linear projection and finally a non-linear activation function. \n",
    "\n",
    "Interestingly, it can be shown that concatenating two vectors and applying a linear projection is equal to applying separate linear projections to each vector and adding the results.  This is demonstrated if you mentally carry out the matrix multiplication operations:\n",
    "\n",
    "$$\n",
    "\\begin{bmatrix}\n",
    "\\leftarrow  \\mathbf{h}_0  \\rightarrow & \\leftarrow  \\mathbf{h}_{\\mathcal{N}(0)}  \\rightarrow \\\\\n",
    "\\leftarrow  \\mathbf{h}_1  \\rightarrow & \\leftarrow  \\mathbf{h}_{\\mathcal{N}(1)}  \\rightarrow \n",
    "\\end{bmatrix} \\begin{bmatrix}\n",
    "\\uparrow   &  \\uparrow & & \\uparrow \\\\\n",
    "\\mathbf{W}_0^h & \\mathbf{W}_1^h  & \\dots & \\mathbf{W}_H^h \\\\\n",
    "\\downarrow & \\downarrow & & \\downarrow \\\\\n",
    "\\uparrow   &  \\uparrow & & \\uparrow \\\\\n",
    "\\mathbf{W}_0^\\mathcal{N} & \\mathbf{W}_{1}^\\mathcal{N}  & \\dots & \\mathbf{W}_{H}^\\mathcal{N} \\\\\n",
    "\\downarrow & \\downarrow & & \\downarrow \n",
    "\\end{bmatrix} \n",
    "= \\mathbf{H} \\mathbf{W}^h + \\mathbf{H}_\\mathcal{N}\\mathbf{W}^\\mathcal{N}$$\n",
    "\n",
    "In [PyG](https://pytorch-geometric.readthedocs.io/en/latest/_modules/torch_geometric/nn/conv/sage_conv.html#SAGEConv) and [DGL](https://docs.dgl.ai/_modules/dgl/nn/pytorch/conv/sageconv.html#SAGEConv) implementations of GraphSAGE you see this second form of adding the result of separate linear projections:\n",
    "\n",
    "$$ \\mathbf{h}^{(k+1)}_i = \\sigma \\left ( \\mathbf{W}^{(k)}_{self} \\mathbf{h}_i^{(k)} + \\mathbf{W}^{(k)}_{rel} \\frac{1}{\\left | \\mathcal{N}_i \\right |}\\sum_{j \\in \\mathcal{N}_i}\\mathbf{h}_{j}^{(k)} + \\mathbf{b}^{(k)} \\right )$$\n",
    "\n",
    "Note that in the above equation I also added a bias term $\\mathbf{b}$, which is commonly included.  We will implement this final form with the bias term."
   ]
  },
  {
   "cell_type": "code",
   "execution_count": 31,
   "id": "87920788",
   "metadata": {},
   "outputs": [],
   "source": [
    "class MySage(nn.Module):\n",
    "    \"\"\"\n",
    "    This class implements a single GraphSAGE layer as given by \n",
    "    the final equation above\n",
    "    \"\"\"\n",
    "    def __init__(self, in_channels, out_channels):\n",
    "        super(MySage, self).__init__()\n",
    "        # TODO\n",
    "        \"\"\"\n",
    "        Create all the parameters in the final equation above.  Don't forget \n",
    "        to include the bias term.\n",
    "        \n",
    "        \n",
    "        Arguments\n",
    "        ----------\n",
    "        in_channels : int\n",
    "            Number of input features to the layer\n",
    "        out_channels : int\n",
    "            Number of desired output features from the layer\n",
    "        \"\"\"\n",
    "        pass\n",
    "\n",
    "    def reset_parameters(self):\n",
    "        # TODO\n",
    "        \"\"\"\n",
    "        A method that defines how to re-initialize all the parameters of\n",
    "        your model.  This method will be invoked to start a new experiment,\n",
    "        so it is important that all parameters are reset, or else there will \n",
    "        be an information leak between experiments.\n",
    "        \"\"\"\n",
    "        pass\n",
    "        \n",
    "    def forward(self, g, x):\n",
    "        # TODO\n",
    "        \"\"\"\n",
    "        The forward pass of the model, which applies all of the layers\n",
    "        according to the equation to a given graph and set of node features\n",
    "        \n",
    "        Note:  do NOT apply the final non-linearity in this method.  The\n",
    "        appropriate non-linearity will be applied to the output of this class.\n",
    "        This method should implement:\n",
    "        \n",
    "            W_self*h_i + W_neigh*h_neigh + b\n",
    "        \n",
    "        Arguments\n",
    "        ----------\n",
    "        g : DGLGraph\n",
    "            The graph used for message passing\n",
    "        x : Tensor\n",
    "            The node features\n",
    "        \"\"\"\n",
    "        pass"
   ]
  },
  {
   "cell_type": "markdown",
   "id": "816bb949",
   "metadata": {},
   "source": [
    "Your class will be passed as an argument to the `SAGE` wrapper class, defined in the `utils.py` script.  This class merely stacks together two layers of the class you have defined and adds the appropriate non-linearity, dropout...etc."
   ]
  },
  {
   "cell_type": "code",
   "execution_count": 32,
   "id": "77cad28c",
   "metadata": {},
   "outputs": [],
   "source": [
    "num_layers = 2\n",
    "dropout = 0.5\n",
    "\n",
    "model = SAGE(\n",
    "    num_hidden, num_hidden, num_hidden, num_layers,\n",
    "    dropout, sage_cls=MySage\n",
    ")"
   ]
  },
  {
   "cell_type": "code",
   "execution_count": 39,
   "id": "b59c3657",
   "metadata": {},
   "outputs": [],
   "source": [
    "assert sum(p.numel() for p in model.parameters()) == 262656, \"Number of GNN model parameters doesn't match\""
   ]
  },
  {
   "cell_type": "markdown",
   "id": "c57d07b2",
   "metadata": {},
   "source": [
    "### Link Predictor architecture\n",
    "Next you will implement a Link Predictor that takes two node embeddings as input and calculates an edge embedding $ \\mathbf{e}_{u,v} $ via an element-wise product of the node embeddings:  \n",
    "\n",
    "$$ \\mathbf{e}_{u,v} = \\mathbf{h}_u \\odot \\mathbf{h}_v$$\n",
    "\n",
    "It then passes that result through a 2-layered dense Neural Network.\n",
    "\n",
    "$$ \\hat{y}_{u,v} = \\text{sigmoid} \\left( \\mathbf{W}^1 \\text{ReLU} \\left(\\mathbf{W}^0 \\mathbf{e}_{u,v} + \\mathbf{b}^0 \\right) + \\mathbf{b}^1 \\right)$$\n",
    "\n",
    "This output represents our predicted probability that two nodes share an edge."
   ]
  },
  {
   "cell_type": "code",
   "execution_count": 36,
   "id": "eb27d5f1",
   "metadata": {},
   "outputs": [],
   "source": [
    "class LinkPredictor(nn.Module):\n",
    "    \"\"\"\n",
    "    This class implements a Link Predictor model\n",
    "    \"\"\"\n",
    "    def __init__(self, in_channels, hidden_channels, out_channels, \n",
    "                 num_layers, dropout):\n",
    "        super(LinkPredictor, self).__init__()\n",
    "        # TODO\n",
    "        \"\"\"\n",
    "        Define the Link Predictor architectural components.  Note that \n",
    "        dropout needs to be applied to the hidden layer representations\n",
    "        \n",
    "        \n",
    "        Arguments\n",
    "        ----------\n",
    "        in_channels : int\n",
    "            Number of input features to the layer\n",
    "        hidden_channels : int\n",
    "            Number of channels in the hidden layers\n",
    "        out_channels : int\n",
    "            Number of desired output features from the layer\n",
    "        num_layers : int\n",
    "            Number of dense neural network layers to apply to\n",
    "            the edge embedding\n",
    "        dropout : float\n",
    "            Amount of dropout to apply to the hidden layers\n",
    "        \"\"\"\n",
    "\n",
    "        pass\n",
    "\n",
    "    def reset_parameters(self):\n",
    "        # TODO\n",
    "        \"\"\"\n",
    "        A method that defines how to re-initialize all the parameters of\n",
    "        your model.  This method will be invoked to start a new experiment,\n",
    "        so it is important that all parameters are reset, or else there will \n",
    "        be an information leak between experiments.\n",
    "        \"\"\"\n",
    "        pass\n",
    "\n",
    "    def forward(self, x_i, x_j):\n",
    "        # TODO\n",
    "        \"\"\"\n",
    "        The forward pass of the model, which calculates the edge embedding\n",
    "        from the two node embeddings and applies the dense neural network\n",
    "        layers.  This method will also implement the relevant non-linearities\n",
    "        and dropout.\n",
    "        \n",
    "        Each hidden layer of the NN should have the flow:\n",
    "            input -> linear -> ReLU -> Dropout\n",
    "        \n",
    "        The final layer of the NN should have the flow:\n",
    "            input -> linear -> Sigmoid\n",
    "            \n",
    "        Note that there is no dropout applied to the final layer.\n",
    "        \n",
    "        Arguments\n",
    "        ----------\n",
    "        x_i : Tensor\n",
    "            The source nodes' embeddings\n",
    "        x_j : Tensor\n",
    "            The destination nodes' embeddings\n",
    "        \"\"\"\n",
    "        pass"
   ]
  },
  {
   "cell_type": "code",
   "execution_count": 37,
   "id": "dedcb189",
   "metadata": {},
   "outputs": [],
   "source": [
    "predictor = LinkPredictor(\n",
    "    num_hidden, num_hidden, 1,\n",
    "    num_layers, dropout\n",
    ")"
   ]
  },
  {
   "cell_type": "code",
   "execution_count": 40,
   "id": "9e2116be",
   "metadata": {},
   "outputs": [],
   "source": [
    "assert sum(p.numel() for p in predictor.parameters()) == 66049, \"Number of Link Predictor parameters doesn't match\""
   ]
  },
  {
   "cell_type": "markdown",
   "id": "68e13f15",
   "metadata": {},
   "source": [
    "## Training\n",
    "This will leverage functions defined in the `utils.py` script to standardize training and evaluation.  \n",
    "\n",
    "For faster troubleshooting, note that you should be able to get close to the following performance within the first 10 training epochs, although it varies significantly from run to run:\n",
    "```\n",
    "Hits@10\n",
    "Run: 01, Epoch: 10, Loss: 0.4170, Train: 21.47%, Valid: 18.70%, Test: 7.49%\n",
    "Hits@20\n",
    "Run: 01, Epoch: 10, Loss: 0.4170, Train: 28.53%, Valid: 25.24%, Test: 12.05%\n",
    "Hits@30\n",
    "Run: 01, Epoch: 10, Loss: 0.4170, Train: 31.95%, Valid: 28.63%, Test: 16.94%\n",
    "```"
   ]
  },
  {
   "cell_type": "code",
   "execution_count": 27,
   "id": "a88ce8af",
   "metadata": {},
   "outputs": [],
   "source": [
    "# TODO: reduce this to something like 1 run for 10 epochs when developing\n",
    "# and use 10 runs at 200 epochs for the final run\n",
    "N_runs = 10\n",
    "train_args = dict(epochs=200, lr=0.005, eval_steps=1, log_steps=1)"
   ]
  },
  {
   "cell_type": "code",
   "execution_count": null,
   "id": "d92f9f6d",
   "metadata": {},
   "outputs": [
    {
     "name": "stdout",
     "output_type": "stream",
     "text": [
      "Hits@10\n",
      "Run: 01, Epoch: 01, Loss: 1.1164, Train: 1.99%, Valid: 1.94%, Test: 3.31%\n",
      "Hits@20\n",
      "Run: 01, Epoch: 01, Loss: 1.1164, Train: 3.05%, Valid: 2.85%, Test: 4.55%\n",
      "Hits@30\n",
      "Run: 01, Epoch: 01, Loss: 1.1164, Train: 3.75%, Valid: 3.48%, Test: 5.26%\n",
      "---\n",
      "Hits@10\n",
      "Run: 01, Epoch: 02, Loss: 0.7831, Train: 2.16%, Valid: 1.88%, Test: 0.11%\n",
      "Hits@20\n",
      "Run: 01, Epoch: 02, Loss: 0.7831, Train: 6.15%, Valid: 5.62%, Test: 3.39%\n",
      "Hits@30\n",
      "Run: 01, Epoch: 02, Loss: 0.7831, Train: 7.50%, Valid: 6.84%, Test: 4.77%\n",
      "---\n",
      "Hits@10\n",
      "Run: 01, Epoch: 03, Loss: 0.6958, Train: 1.07%, Valid: 0.91%, Test: 0.39%\n",
      "Hits@20\n",
      "Run: 01, Epoch: 03, Loss: 0.6958, Train: 7.67%, Valid: 6.96%, Test: 6.00%\n",
      "Hits@30\n",
      "Run: 01, Epoch: 03, Loss: 0.6958, Train: 9.31%, Valid: 8.46%, Test: 8.38%\n",
      "---\n",
      "Hits@10\n",
      "Run: 01, Epoch: 04, Loss: 0.6230, Train: 4.81%, Valid: 4.19%, Test: 0.68%\n",
      "Hits@20\n",
      "Run: 01, Epoch: 04, Loss: 0.6230, Train: 7.03%, Valid: 6.18%, Test: 4.87%\n",
      "Hits@30\n",
      "Run: 01, Epoch: 04, Loss: 0.6230, Train: 8.96%, Valid: 7.93%, Test: 11.10%\n",
      "---\n",
      "Hits@10\n",
      "Run: 01, Epoch: 05, Loss: 0.5798, Train: 9.46%, Valid: 8.39%, Test: 5.87%\n",
      "Hits@20\n",
      "Run: 01, Epoch: 05, Loss: 0.5798, Train: 12.11%, Valid: 10.71%, Test: 11.82%\n",
      "Hits@30\n",
      "Run: 01, Epoch: 05, Loss: 0.5798, Train: 14.66%, Valid: 13.07%, Test: 14.74%\n",
      "---\n",
      "Hits@10\n",
      "Run: 01, Epoch: 06, Loss: 0.5231, Train: 18.92%, Valid: 16.89%, Test: 4.49%\n",
      "Hits@20\n",
      "Run: 01, Epoch: 06, Loss: 0.5231, Train: 22.82%, Valid: 20.47%, Test: 9.70%\n",
      "Hits@30\n",
      "Run: 01, Epoch: 06, Loss: 0.5231, Train: 25.82%, Valid: 23.37%, Test: 14.10%\n",
      "---\n",
      "Hits@10\n",
      "Run: 01, Epoch: 07, Loss: 0.4800, Train: 13.83%, Valid: 12.19%, Test: 3.24%\n",
      "Hits@20\n",
      "Run: 01, Epoch: 07, Loss: 0.4800, Train: 18.34%, Valid: 16.30%, Test: 6.36%\n",
      "Hits@30\n",
      "Run: 01, Epoch: 07, Loss: 0.4800, Train: 21.85%, Valid: 19.34%, Test: 11.24%\n",
      "---\n",
      "Hits@10\n",
      "Run: 01, Epoch: 08, Loss: 0.4488, Train: 22.45%, Valid: 19.79%, Test: 4.71%\n",
      "Hits@20\n",
      "Run: 01, Epoch: 08, Loss: 0.4488, Train: 26.17%, Valid: 23.22%, Test: 9.38%\n",
      "Hits@30\n",
      "Run: 01, Epoch: 08, Loss: 0.4488, Train: 29.02%, Valid: 25.96%, Test: 14.19%\n",
      "---\n",
      "Hits@10\n",
      "Run: 01, Epoch: 09, Loss: 0.4193, Train: 24.79%, Valid: 21.68%, Test: 6.99%\n",
      "Hits@20\n",
      "Run: 01, Epoch: 09, Loss: 0.4193, Train: 31.68%, Valid: 28.33%, Test: 12.65%\n",
      "Hits@30\n",
      "Run: 01, Epoch: 09, Loss: 0.4193, Train: 34.70%, Valid: 31.19%, Test: 15.92%\n",
      "---\n",
      "Hits@10\n",
      "Run: 01, Epoch: 10, Loss: 0.3951, Train: 28.63%, Valid: 25.22%, Test: 7.79%\n",
      "Hits@20\n",
      "Run: 01, Epoch: 10, Loss: 0.3951, Train: 31.64%, Valid: 28.11%, Test: 12.80%\n",
      "Hits@30\n",
      "Run: 01, Epoch: 10, Loss: 0.3951, Train: 37.11%, Valid: 33.29%, Test: 16.40%\n",
      "---\n",
      "Hits@10\n",
      "Run: 01, Epoch: 11, Loss: 0.3738, Train: 27.38%, Valid: 23.90%, Test: 5.23%\n",
      "Hits@20\n",
      "Run: 01, Epoch: 11, Loss: 0.3738, Train: 33.33%, Valid: 29.32%, Test: 10.85%\n",
      "Hits@30\n",
      "Run: 01, Epoch: 11, Loss: 0.3738, Train: 38.17%, Valid: 33.80%, Test: 13.98%\n",
      "---\n",
      "Hits@10\n",
      "Run: 01, Epoch: 12, Loss: 0.3571, Train: 24.75%, Valid: 21.24%, Test: 5.12%\n",
      "Hits@20\n",
      "Run: 01, Epoch: 12, Loss: 0.3571, Train: 33.56%, Valid: 29.28%, Test: 8.03%\n",
      "Hits@30\n",
      "Run: 01, Epoch: 12, Loss: 0.3571, Train: 36.18%, Valid: 31.77%, Test: 13.90%\n",
      "---\n",
      "Hits@10\n",
      "Run: 01, Epoch: 13, Loss: 0.3422, Train: 24.38%, Valid: 20.99%, Test: 6.48%\n",
      "Hits@20\n",
      "Run: 01, Epoch: 13, Loss: 0.3422, Train: 31.95%, Valid: 27.80%, Test: 10.77%\n",
      "Hits@30\n",
      "Run: 01, Epoch: 13, Loss: 0.3422, Train: 37.24%, Valid: 32.62%, Test: 15.92%\n",
      "---\n",
      "Hits@10\n",
      "Run: 01, Epoch: 14, Loss: 0.3293, Train: 37.94%, Valid: 33.12%, Test: 10.10%\n",
      "Hits@20\n",
      "Run: 01, Epoch: 14, Loss: 0.3293, Train: 42.75%, Valid: 37.52%, Test: 15.09%\n",
      "Hits@30\n",
      "Run: 01, Epoch: 14, Loss: 0.3293, Train: 44.42%, Valid: 39.09%, Test: 20.36%\n",
      "---\n",
      "Hits@10\n",
      "Run: 01, Epoch: 15, Loss: 0.3183, Train: 25.42%, Valid: 21.62%, Test: 7.84%\n",
      "Hits@20\n",
      "Run: 01, Epoch: 15, Loss: 0.3183, Train: 33.83%, Valid: 28.98%, Test: 12.47%\n",
      "Hits@30\n",
      "Run: 01, Epoch: 15, Loss: 0.3183, Train: 41.42%, Valid: 35.82%, Test: 16.99%\n",
      "---\n",
      "Hits@10\n",
      "Run: 01, Epoch: 16, Loss: 0.3086, Train: 37.41%, Valid: 32.38%, Test: 12.23%\n",
      "Hits@20\n",
      "Run: 01, Epoch: 16, Loss: 0.3086, Train: 43.85%, Valid: 38.35%, Test: 18.68%\n",
      "Hits@30\n",
      "Run: 01, Epoch: 16, Loss: 0.3086, Train: 50.81%, Valid: 44.97%, Test: 27.40%\n",
      "---\n",
      "Hits@10\n",
      "Run: 01, Epoch: 17, Loss: 0.3019, Train: 37.84%, Valid: 32.72%, Test: 11.19%\n",
      "Hits@20\n",
      "Run: 01, Epoch: 17, Loss: 0.3019, Train: 47.91%, Valid: 42.00%, Test: 16.90%\n",
      "Hits@30\n",
      "Run: 01, Epoch: 17, Loss: 0.3019, Train: 50.12%, Valid: 44.10%, Test: 22.42%\n",
      "---\n",
      "Hits@10\n",
      "Run: 01, Epoch: 18, Loss: 0.2933, Train: 36.93%, Valid: 31.75%, Test: 6.62%\n",
      "Hits@20\n",
      "Run: 01, Epoch: 18, Loss: 0.2933, Train: 43.59%, Valid: 37.91%, Test: 11.48%\n",
      "Hits@30\n",
      "Run: 01, Epoch: 18, Loss: 0.2933, Train: 48.50%, Valid: 42.44%, Test: 17.94%\n",
      "---\n",
      "Hits@10\n",
      "Run: 01, Epoch: 19, Loss: 0.2873, Train: 42.39%, Valid: 36.59%, Test: 14.84%\n",
      "Hits@20\n",
      "Run: 01, Epoch: 19, Loss: 0.2873, Train: 48.13%, Valid: 41.85%, Test: 23.18%\n",
      "Hits@30\n",
      "Run: 01, Epoch: 19, Loss: 0.2873, Train: 50.79%, Valid: 44.39%, Test: 27.05%\n",
      "---\n",
      "Hits@10\n",
      "Run: 01, Epoch: 20, Loss: 0.2823, Train: 27.02%, Valid: 22.69%, Test: 11.51%\n",
      "Hits@20\n",
      "Run: 01, Epoch: 20, Loss: 0.2823, Train: 38.83%, Valid: 33.23%, Test: 19.23%\n",
      "Hits@30\n",
      "Run: 01, Epoch: 20, Loss: 0.2823, Train: 45.70%, Valid: 39.49%, Test: 22.59%\n",
      "---\n",
      "Hits@10\n",
      "Run: 01, Epoch: 21, Loss: 0.2761, Train: 42.67%, Valid: 36.75%, Test: 22.86%\n",
      "Hits@20\n",
      "Run: 01, Epoch: 21, Loss: 0.2761, Train: 49.70%, Valid: 43.28%, Test: 26.69%\n",
      "Hits@30\n",
      "Run: 01, Epoch: 21, Loss: 0.2761, Train: 52.95%, Valid: 46.29%, Test: 31.58%\n",
      "---\n",
      "Hits@10\n",
      "Run: 01, Epoch: 22, Loss: 0.2685, Train: 44.66%, Valid: 38.29%, Test: 12.96%\n",
      "Hits@20\n",
      "Run: 01, Epoch: 22, Loss: 0.2685, Train: 49.60%, Valid: 42.89%, Test: 19.51%\n",
      "Hits@30\n",
      "Run: 01, Epoch: 22, Loss: 0.2685, Train: 53.64%, Valid: 46.80%, Test: 24.57%\n",
      "---\n",
      "Hits@10\n",
      "Run: 01, Epoch: 23, Loss: 0.2642, Train: 41.18%, Valid: 35.14%, Test: 15.06%\n",
      "Hits@20\n",
      "Run: 01, Epoch: 23, Loss: 0.2642, Train: 49.62%, Valid: 42.78%, Test: 23.00%\n",
      "Hits@30\n",
      "Run: 01, Epoch: 23, Loss: 0.2642, Train: 52.83%, Valid: 45.79%, Test: 27.53%\n",
      "---\n",
      "Hits@10\n",
      "Run: 01, Epoch: 24, Loss: 0.2604, Train: 42.00%, Valid: 35.96%, Test: 11.75%\n",
      "Hits@20\n",
      "Run: 01, Epoch: 24, Loss: 0.2604, Train: 48.39%, Valid: 41.96%, Test: 20.98%\n",
      "Hits@30\n",
      "Run: 01, Epoch: 24, Loss: 0.2604, Train: 53.76%, Valid: 46.92%, Test: 26.14%\n",
      "---\n",
      "Hits@10\n",
      "Run: 01, Epoch: 25, Loss: 0.2559, Train: 48.28%, Valid: 41.81%, Test: 23.48%\n",
      "Hits@20\n",
      "Run: 01, Epoch: 25, Loss: 0.2559, Train: 54.89%, Valid: 47.98%, Test: 29.77%\n",
      "Hits@30\n",
      "Run: 01, Epoch: 25, Loss: 0.2559, Train: 58.73%, Valid: 51.57%, Test: 36.38%\n",
      "---\n",
      "Hits@10\n",
      "Run: 01, Epoch: 26, Loss: 0.2524, Train: 43.09%, Valid: 36.69%, Test: 17.28%\n",
      "Hits@20\n",
      "Run: 01, Epoch: 26, Loss: 0.2524, Train: 52.03%, Valid: 44.87%, Test: 25.31%\n",
      "Hits@30\n",
      "Run: 01, Epoch: 26, Loss: 0.2524, Train: 54.66%, Valid: 47.30%, Test: 31.08%\n",
      "---\n",
      "Hits@10\n",
      "Run: 01, Epoch: 27, Loss: 0.2488, Train: 39.24%, Valid: 33.12%, Test: 18.45%\n",
      "Hits@20\n",
      "Run: 01, Epoch: 27, Loss: 0.2488, Train: 50.03%, Valid: 42.99%, Test: 25.53%\n",
      "Hits@30\n",
      "Run: 01, Epoch: 27, Loss: 0.2488, Train: 54.33%, Valid: 47.02%, Test: 31.94%\n",
      "---\n",
      "Hits@10\n",
      "Run: 01, Epoch: 28, Loss: 0.2455, Train: 42.31%, Valid: 35.80%, Test: 9.59%\n",
      "Hits@20\n",
      "Run: 01, Epoch: 28, Loss: 0.2455, Train: 49.67%, Valid: 42.68%, Test: 20.23%\n",
      "Hits@30\n",
      "Run: 01, Epoch: 28, Loss: 0.2455, Train: 55.71%, Valid: 48.32%, Test: 27.05%\n",
      "---\n",
      "Hits@10\n",
      "Run: 01, Epoch: 29, Loss: 0.2423, Train: 52.64%, Valid: 45.41%, Test: 22.23%\n",
      "Hits@20\n",
      "Run: 01, Epoch: 29, Loss: 0.2423, Train: 57.18%, Valid: 49.67%, Test: 35.82%\n",
      "Hits@30\n",
      "Run: 01, Epoch: 29, Loss: 0.2423, Train: 61.24%, Valid: 53.39%, Test: 50.47%\n",
      "---\n",
      "Hits@10\n",
      "Run: 01, Epoch: 30, Loss: 0.2382, Train: 45.00%, Valid: 38.28%, Test: 23.05%\n",
      "Hits@20\n",
      "Run: 01, Epoch: 30, Loss: 0.2382, Train: 55.63%, Valid: 48.06%, Test: 28.63%\n",
      "Hits@30\n",
      "Run: 01, Epoch: 30, Loss: 0.2382, Train: 59.33%, Valid: 51.50%, Test: 34.73%\n",
      "---\n",
      "Hits@10\n",
      "Run: 01, Epoch: 31, Loss: 0.2349, Train: 46.43%, Valid: 39.27%, Test: 22.58%\n",
      "Hits@20\n",
      "Run: 01, Epoch: 31, Loss: 0.2349, Train: 55.12%, Valid: 47.42%, Test: 29.75%\n",
      "Hits@30\n",
      "Run: 01, Epoch: 31, Loss: 0.2349, Train: 60.88%, Valid: 52.72%, Test: 34.81%\n",
      "---\n",
      "Hits@10\n",
      "Run: 01, Epoch: 32, Loss: 0.2323, Train: 49.33%, Valid: 42.17%, Test: 15.84%\n",
      "Hits@20\n",
      "Run: 01, Epoch: 32, Loss: 0.2323, Train: 55.66%, Valid: 48.06%, Test: 27.96%\n",
      "Hits@30\n",
      "Run: 01, Epoch: 32, Loss: 0.2323, Train: 60.45%, Valid: 52.54%, Test: 36.72%\n",
      "---\n",
      "Hits@10\n",
      "Run: 01, Epoch: 33, Loss: 0.2318, Train: 49.28%, Valid: 42.12%, Test: 18.68%\n",
      "Hits@20\n",
      "Run: 01, Epoch: 33, Loss: 0.2318, Train: 56.10%, Valid: 48.29%, Test: 31.61%\n",
      "Hits@30\n",
      "Run: 01, Epoch: 33, Loss: 0.2318, Train: 60.79%, Valid: 52.60%, Test: 38.52%\n",
      "---\n",
      "Hits@10\n",
      "Run: 01, Epoch: 34, Loss: 0.2300, Train: 55.20%, Valid: 47.59%, Test: 31.00%\n",
      "Hits@20\n",
      "Run: 01, Epoch: 34, Loss: 0.2300, Train: 59.76%, Valid: 51.86%, Test: 38.99%\n",
      "Hits@30\n",
      "Run: 01, Epoch: 34, Loss: 0.2300, Train: 62.46%, Valid: 54.38%, Test: 47.01%\n",
      "---\n",
      "Hits@10\n",
      "Run: 01, Epoch: 35, Loss: 0.2261, Train: 49.77%, Valid: 42.41%, Test: 21.73%\n",
      "Hits@20\n",
      "Run: 01, Epoch: 35, Loss: 0.2261, Train: 57.85%, Valid: 49.85%, Test: 27.98%\n",
      "Hits@30\n",
      "Run: 01, Epoch: 35, Loss: 0.2261, Train: 62.08%, Valid: 53.94%, Test: 36.06%\n",
      "---\n",
      "Hits@10\n",
      "Run: 01, Epoch: 36, Loss: 0.2239, Train: 52.75%, Valid: 45.07%, Test: 18.35%\n",
      "Hits@20\n",
      "Run: 01, Epoch: 36, Loss: 0.2239, Train: 61.09%, Valid: 52.94%, Test: 30.93%\n",
      "Hits@30\n",
      "Run: 01, Epoch: 36, Loss: 0.2239, Train: 64.42%, Valid: 56.01%, Test: 35.30%\n",
      "---\n",
      "Hits@10\n",
      "Run: 01, Epoch: 37, Loss: 0.2219, Train: 53.10%, Valid: 45.55%, Test: 28.06%\n",
      "Hits@20\n",
      "Run: 01, Epoch: 37, Loss: 0.2219, Train: 60.55%, Valid: 52.42%, Test: 34.68%\n",
      "Hits@30\n",
      "Run: 01, Epoch: 37, Loss: 0.2219, Train: 64.52%, Valid: 56.21%, Test: 38.06%\n",
      "---\n",
      "Hits@10\n",
      "Run: 01, Epoch: 38, Loss: 0.2198, Train: 59.44%, Valid: 51.36%, Test: 25.59%\n",
      "Hits@20\n",
      "Run: 01, Epoch: 38, Loss: 0.2198, Train: 63.88%, Valid: 55.52%, Test: 36.81%\n",
      "Hits@30\n",
      "Run: 01, Epoch: 38, Loss: 0.2198, Train: 66.22%, Valid: 57.72%, Test: 47.80%\n",
      "---\n",
      "Hits@10\n",
      "Run: 01, Epoch: 39, Loss: 0.2178, Train: 48.28%, Valid: 40.93%, Test: 9.24%\n",
      "Hits@20\n",
      "Run: 01, Epoch: 39, Loss: 0.2178, Train: 58.62%, Valid: 50.60%, Test: 27.13%\n",
      "Hits@30\n",
      "Run: 01, Epoch: 39, Loss: 0.2178, Train: 63.47%, Valid: 55.22%, Test: 35.06%\n",
      "---\n",
      "Hits@10\n",
      "Run: 01, Epoch: 40, Loss: 0.2184, Train: 55.25%, Valid: 47.17%, Test: 14.02%\n",
      "Hits@20\n",
      "Run: 01, Epoch: 40, Loss: 0.2184, Train: 61.47%, Valid: 53.08%, Test: 29.73%\n",
      "Hits@30\n",
      "Run: 01, Epoch: 40, Loss: 0.2184, Train: 65.94%, Valid: 57.36%, Test: 42.16%\n",
      "---\n",
      "Hits@10\n",
      "Run: 01, Epoch: 41, Loss: 0.2178, Train: 56.37%, Valid: 48.37%, Test: 28.11%\n",
      "Hits@20\n",
      "Run: 01, Epoch: 41, Loss: 0.2178, Train: 63.83%, Valid: 55.35%, Test: 39.03%\n",
      "Hits@30\n",
      "Run: 01, Epoch: 41, Loss: 0.2178, Train: 66.78%, Valid: 58.26%, Test: 45.13%\n",
      "---\n",
      "Hits@10\n",
      "Run: 01, Epoch: 42, Loss: 0.2144, Train: 56.31%, Valid: 48.24%, Test: 32.48%\n",
      "Hits@20\n",
      "Run: 01, Epoch: 42, Loss: 0.2144, Train: 63.16%, Valid: 54.81%, Test: 38.92%\n",
      "Hits@30\n",
      "Run: 01, Epoch: 42, Loss: 0.2144, Train: 66.68%, Valid: 58.18%, Test: 43.83%\n",
      "---\n",
      "Hits@10\n",
      "Run: 01, Epoch: 43, Loss: 0.2126, Train: 59.09%, Valid: 50.76%, Test: 26.23%\n",
      "Hits@20\n",
      "Run: 01, Epoch: 43, Loss: 0.2126, Train: 64.99%, Valid: 56.44%, Test: 42.33%\n",
      "Hits@30\n",
      "Run: 01, Epoch: 43, Loss: 0.2126, Train: 68.02%, Valid: 59.29%, Test: 49.81%\n",
      "---\n",
      "Hits@10\n",
      "Run: 01, Epoch: 44, Loss: 0.2110, Train: 62.31%, Valid: 54.09%, Test: 33.88%\n",
      "Hits@20\n",
      "Run: 01, Epoch: 44, Loss: 0.2110, Train: 66.97%, Valid: 58.55%, Test: 49.96%\n",
      "Hits@30\n",
      "Run: 01, Epoch: 44, Loss: 0.2110, Train: 69.05%, Valid: 60.52%, Test: 56.79%\n",
      "---\n",
      "Hits@10\n",
      "Run: 01, Epoch: 45, Loss: 0.2104, Train: 62.95%, Valid: 54.70%, Test: 34.71%\n",
      "Hits@20\n",
      "Run: 01, Epoch: 45, Loss: 0.2104, Train: 68.11%, Valid: 59.56%, Test: 48.92%\n",
      "Hits@30\n",
      "Run: 01, Epoch: 45, Loss: 0.2104, Train: 70.24%, Valid: 61.57%, Test: 55.06%\n",
      "---\n",
      "Hits@10\n",
      "Run: 01, Epoch: 46, Loss: 0.2099, Train: 49.45%, Valid: 41.71%, Test: 12.70%\n",
      "Hits@20\n",
      "Run: 01, Epoch: 46, Loss: 0.2099, Train: 63.08%, Valid: 54.33%, Test: 30.67%\n",
      "Hits@30\n",
      "Run: 01, Epoch: 46, Loss: 0.2099, Train: 67.63%, Valid: 58.66%, Test: 38.44%\n",
      "---\n",
      "Hits@10\n",
      "Run: 01, Epoch: 47, Loss: 0.2084, Train: 54.49%, Valid: 46.27%, Test: 13.31%\n",
      "Hits@20\n",
      "Run: 01, Epoch: 47, Loss: 0.2084, Train: 63.53%, Valid: 54.82%, Test: 31.19%\n",
      "Hits@30\n",
      "Run: 01, Epoch: 47, Loss: 0.2084, Train: 67.19%, Valid: 58.24%, Test: 44.22%\n",
      "---\n",
      "Hits@10\n",
      "Run: 01, Epoch: 48, Loss: 0.2056, Train: 59.06%, Valid: 50.65%, Test: 17.45%\n",
      "Hits@20\n",
      "Run: 01, Epoch: 48, Loss: 0.2056, Train: 65.80%, Valid: 57.15%, Test: 41.00%\n",
      "Hits@30\n",
      "Run: 01, Epoch: 48, Loss: 0.2056, Train: 69.83%, Valid: 61.02%, Test: 47.97%\n",
      "---\n",
      "Hits@10\n",
      "Run: 01, Epoch: 49, Loss: 0.2050, Train: 54.47%, Valid: 46.15%, Test: 20.93%\n",
      "Hits@20\n",
      "Run: 01, Epoch: 49, Loss: 0.2050, Train: 63.66%, Valid: 54.68%, Test: 33.22%\n",
      "Hits@30\n",
      "Run: 01, Epoch: 49, Loss: 0.2050, Train: 68.98%, Valid: 59.94%, Test: 45.48%\n",
      "---\n",
      "Hits@10\n",
      "Run: 01, Epoch: 50, Loss: 0.2042, Train: 58.72%, Valid: 50.14%, Test: 25.90%\n",
      "Hits@20\n",
      "Run: 01, Epoch: 50, Loss: 0.2042, Train: 65.80%, Valid: 57.02%, Test: 38.59%\n",
      "Hits@30\n",
      "Run: 01, Epoch: 50, Loss: 0.2042, Train: 69.19%, Valid: 60.24%, Test: 47.31%\n",
      "---\n",
      "Hits@10\n",
      "Run: 01, Epoch: 51, Loss: 0.2023, Train: 56.73%, Valid: 48.12%, Test: 10.24%\n",
      "Hits@20\n",
      "Run: 01, Epoch: 51, Loss: 0.2023, Train: 64.19%, Valid: 55.44%, Test: 26.65%\n",
      "Hits@30\n",
      "Run: 01, Epoch: 51, Loss: 0.2023, Train: 70.03%, Valid: 60.99%, Test: 38.64%\n",
      "---\n",
      "Hits@10\n",
      "Run: 01, Epoch: 52, Loss: 0.2017, Train: 60.49%, Valid: 51.48%, Test: 22.57%\n",
      "Hits@20\n",
      "Run: 01, Epoch: 52, Loss: 0.2017, Train: 67.56%, Valid: 58.50%, Test: 47.69%\n",
      "Hits@30\n",
      "Run: 01, Epoch: 52, Loss: 0.2017, Train: 70.73%, Valid: 61.63%, Test: 56.96%\n",
      "---\n",
      "Hits@10\n",
      "Run: 01, Epoch: 53, Loss: 0.2015, Train: 63.81%, Valid: 55.08%, Test: 37.30%\n",
      "Hits@20\n",
      "Run: 01, Epoch: 53, Loss: 0.2015, Train: 69.08%, Valid: 60.09%, Test: 47.37%\n",
      "Hits@30\n",
      "Run: 01, Epoch: 53, Loss: 0.2015, Train: 72.06%, Valid: 62.89%, Test: 56.53%\n",
      "---\n",
      "Hits@10\n",
      "Run: 01, Epoch: 54, Loss: 0.2012, Train: 59.67%, Valid: 50.90%, Test: 19.59%\n",
      "Hits@20\n",
      "Run: 01, Epoch: 54, Loss: 0.2012, Train: 69.50%, Valid: 60.53%, Test: 41.89%\n",
      "Hits@30\n",
      "Run: 01, Epoch: 54, Loss: 0.2012, Train: 72.62%, Valid: 63.50%, Test: 56.81%\n",
      "---\n",
      "Hits@10\n",
      "Run: 01, Epoch: 55, Loss: 0.1995, Train: 62.08%, Valid: 53.16%, Test: 16.41%\n",
      "Hits@20\n",
      "Run: 01, Epoch: 55, Loss: 0.1995, Train: 68.98%, Valid: 59.89%, Test: 31.37%\n",
      "Hits@30\n",
      "Run: 01, Epoch: 55, Loss: 0.1995, Train: 70.51%, Valid: 61.37%, Test: 42.55%\n",
      "---\n",
      "Hits@10\n",
      "Run: 01, Epoch: 56, Loss: 0.1980, Train: 59.60%, Valid: 50.90%, Test: 35.14%\n",
      "Hits@20\n",
      "Run: 01, Epoch: 56, Loss: 0.1980, Train: 66.94%, Valid: 58.13%, Test: 47.83%\n",
      "Hits@30\n",
      "Run: 01, Epoch: 56, Loss: 0.1980, Train: 69.98%, Valid: 60.97%, Test: 55.96%\n",
      "---\n",
      "Hits@10\n",
      "Run: 01, Epoch: 57, Loss: 0.1981, Train: 61.12%, Valid: 52.36%, Test: 21.10%\n",
      "Hits@20\n",
      "Run: 01, Epoch: 57, Loss: 0.1981, Train: 67.25%, Valid: 58.27%, Test: 42.18%\n",
      "Hits@30\n",
      "Run: 01, Epoch: 57, Loss: 0.1981, Train: 69.82%, Valid: 60.79%, Test: 58.84%\n",
      "---\n",
      "Hits@10\n",
      "Run: 01, Epoch: 58, Loss: 0.1952, Train: 49.97%, Valid: 41.61%, Test: 28.77%\n",
      "Hits@20\n",
      "Run: 01, Epoch: 58, Loss: 0.1952, Train: 65.14%, Valid: 56.03%, Test: 42.96%\n",
      "Hits@30\n",
      "Run: 01, Epoch: 58, Loss: 0.1952, Train: 70.15%, Valid: 60.93%, Test: 52.84%\n",
      "---\n",
      "Hits@10\n",
      "Run: 01, Epoch: 59, Loss: 0.1951, Train: 61.94%, Valid: 52.85%, Test: 21.65%\n",
      "Hits@20\n",
      "Run: 01, Epoch: 59, Loss: 0.1951, Train: 66.92%, Valid: 57.65%, Test: 42.65%\n",
      "Hits@30\n",
      "Run: 01, Epoch: 59, Loss: 0.1951, Train: 69.61%, Valid: 60.21%, Test: 48.41%\n",
      "---\n",
      "Hits@10\n",
      "Run: 01, Epoch: 60, Loss: 0.1947, Train: 60.77%, Valid: 51.98%, Test: 35.94%\n",
      "Hits@20\n",
      "Run: 01, Epoch: 60, Loss: 0.1947, Train: 70.12%, Valid: 61.04%, Test: 50.24%\n",
      "Hits@30\n",
      "Run: 01, Epoch: 60, Loss: 0.1947, Train: 71.84%, Valid: 62.64%, Test: 59.18%\n",
      "---\n",
      "Hits@10\n",
      "Run: 01, Epoch: 61, Loss: 0.1951, Train: 58.87%, Valid: 50.05%, Test: 32.53%\n",
      "Hits@20\n",
      "Run: 01, Epoch: 61, Loss: 0.1951, Train: 69.42%, Valid: 60.24%, Test: 47.25%\n",
      "Hits@30\n",
      "Run: 01, Epoch: 61, Loss: 0.1951, Train: 71.52%, Valid: 62.34%, Test: 54.05%\n",
      "---\n",
      "Hits@10\n",
      "Run: 01, Epoch: 62, Loss: 0.1930, Train: 62.12%, Valid: 53.06%, Test: 20.44%\n",
      "Hits@20\n",
      "Run: 01, Epoch: 62, Loss: 0.1930, Train: 67.88%, Valid: 58.67%, Test: 42.09%\n",
      "Hits@30\n",
      "Run: 01, Epoch: 62, Loss: 0.1930, Train: 71.17%, Valid: 61.89%, Test: 51.68%\n",
      "---\n",
      "Hits@10\n",
      "Run: 01, Epoch: 63, Loss: 0.1940, Train: 57.41%, Valid: 48.30%, Test: 26.76%\n",
      "Hits@20\n",
      "Run: 01, Epoch: 63, Loss: 0.1940, Train: 64.57%, Valid: 55.12%, Test: 43.15%\n",
      "Hits@30\n",
      "Run: 01, Epoch: 63, Loss: 0.1940, Train: 69.74%, Valid: 60.21%, Test: 52.73%\n",
      "---\n",
      "Hits@10\n",
      "Run: 01, Epoch: 64, Loss: 0.1918, Train: 62.67%, Valid: 53.55%, Test: 34.41%\n",
      "Hits@20\n",
      "Run: 01, Epoch: 64, Loss: 0.1918, Train: 69.42%, Valid: 60.05%, Test: 46.37%\n",
      "Hits@30\n",
      "Run: 01, Epoch: 64, Loss: 0.1918, Train: 71.00%, Valid: 61.60%, Test: 59.86%\n",
      "---\n",
      "Hits@10\n",
      "Run: 01, Epoch: 65, Loss: 0.1912, Train: 63.12%, Valid: 53.99%, Test: 32.53%\n",
      "Hits@20\n",
      "Run: 01, Epoch: 65, Loss: 0.1912, Train: 66.70%, Valid: 57.54%, Test: 47.43%\n",
      "Hits@30\n",
      "Run: 01, Epoch: 65, Loss: 0.1912, Train: 70.60%, Valid: 61.34%, Test: 53.99%\n",
      "---\n",
      "Hits@10\n",
      "Run: 01, Epoch: 66, Loss: 0.1906, Train: 62.20%, Valid: 53.12%, Test: 35.13%\n",
      "Hits@20\n",
      "Run: 01, Epoch: 66, Loss: 0.1906, Train: 68.06%, Valid: 58.77%, Test: 54.71%\n",
      "Hits@30\n",
      "Run: 01, Epoch: 66, Loss: 0.1906, Train: 71.51%, Valid: 62.16%, Test: 59.33%\n",
      "---\n",
      "Hits@10\n",
      "Run: 01, Epoch: 67, Loss: 0.1905, Train: 61.96%, Valid: 53.12%, Test: 26.40%\n",
      "Hits@20\n",
      "Run: 01, Epoch: 67, Loss: 0.1905, Train: 71.14%, Valid: 62.03%, Test: 45.66%\n",
      "Hits@30\n",
      "Run: 01, Epoch: 67, Loss: 0.1905, Train: 73.64%, Valid: 64.46%, Test: 60.10%\n",
      "---\n",
      "Hits@10\n",
      "Run: 01, Epoch: 68, Loss: 0.1893, Train: 56.92%, Valid: 47.41%, Test: 20.00%\n",
      "Hits@20\n",
      "Run: 01, Epoch: 68, Loss: 0.1893, Train: 65.02%, Valid: 55.44%, Test: 34.69%\n",
      "Hits@30\n",
      "Run: 01, Epoch: 68, Loss: 0.1893, Train: 69.79%, Valid: 60.33%, Test: 45.20%\n",
      "---\n",
      "Hits@10\n",
      "Run: 01, Epoch: 69, Loss: 0.1878, Train: 61.12%, Valid: 51.79%, Test: 34.37%\n",
      "Hits@20\n",
      "Run: 01, Epoch: 69, Loss: 0.1878, Train: 69.77%, Valid: 60.35%, Test: 49.12%\n",
      "Hits@30\n",
      "Run: 01, Epoch: 69, Loss: 0.1878, Train: 71.91%, Valid: 62.49%, Test: 63.81%\n",
      "---\n",
      "Hits@10\n",
      "Run: 01, Epoch: 70, Loss: 0.1889, Train: 59.74%, Valid: 50.54%, Test: 39.01%\n",
      "Hits@20\n",
      "Run: 01, Epoch: 70, Loss: 0.1889, Train: 67.39%, Valid: 57.78%, Test: 46.25%\n",
      "Hits@30\n",
      "Run: 01, Epoch: 70, Loss: 0.1889, Train: 72.24%, Valid: 62.51%, Test: 58.45%\n",
      "---\n",
      "Hits@10\n",
      "Run: 01, Epoch: 71, Loss: 0.1877, Train: 65.39%, Valid: 56.16%, Test: 36.46%\n",
      "Hits@20\n",
      "Run: 01, Epoch: 71, Loss: 0.1877, Train: 72.24%, Valid: 62.78%, Test: 53.96%\n",
      "Hits@30\n",
      "Run: 01, Epoch: 71, Loss: 0.1877, Train: 74.15%, Valid: 64.70%, Test: 62.19%\n",
      "---\n",
      "Hits@10\n",
      "Run: 01, Epoch: 72, Loss: 0.1879, Train: 63.28%, Valid: 54.05%, Test: 43.16%\n",
      "Hits@20\n",
      "Run: 01, Epoch: 72, Loss: 0.1879, Train: 67.75%, Valid: 58.48%, Test: 55.95%\n",
      "Hits@30\n",
      "Run: 01, Epoch: 72, Loss: 0.1879, Train: 73.28%, Valid: 63.82%, Test: 64.64%\n",
      "---\n",
      "Hits@10\n",
      "Run: 01, Epoch: 73, Loss: 0.1856, Train: 62.47%, Valid: 53.12%, Test: 38.20%\n",
      "Hits@20\n",
      "Run: 01, Epoch: 73, Loss: 0.1856, Train: 66.23%, Valid: 56.89%, Test: 49.70%\n",
      "Hits@30\n",
      "Run: 01, Epoch: 73, Loss: 0.1856, Train: 71.59%, Valid: 62.12%, Test: 58.17%\n",
      "---\n",
      "Hits@10\n",
      "Run: 01, Epoch: 74, Loss: 0.1850, Train: 60.38%, Valid: 51.14%, Test: 30.73%\n",
      "Hits@20\n",
      "Run: 01, Epoch: 74, Loss: 0.1850, Train: 68.21%, Valid: 58.68%, Test: 43.87%\n",
      "Hits@30\n",
      "Run: 01, Epoch: 74, Loss: 0.1850, Train: 73.26%, Valid: 63.73%, Test: 60.81%\n",
      "---\n",
      "Hits@10\n",
      "Run: 01, Epoch: 75, Loss: 0.1850, Train: 63.99%, Valid: 54.65%, Test: 43.00%\n",
      "Hits@20\n",
      "Run: 01, Epoch: 75, Loss: 0.1850, Train: 70.12%, Valid: 60.65%, Test: 58.45%\n",
      "Hits@30\n",
      "Run: 01, Epoch: 75, Loss: 0.1850, Train: 72.12%, Valid: 62.62%, Test: 63.38%\n",
      "---\n",
      "Hits@10\n",
      "Run: 01, Epoch: 76, Loss: 0.1842, Train: 57.91%, Valid: 48.77%, Test: 17.22%\n",
      "Hits@20\n",
      "Run: 01, Epoch: 76, Loss: 0.1842, Train: 69.65%, Valid: 60.27%, Test: 35.25%\n",
      "Hits@30\n",
      "Run: 01, Epoch: 76, Loss: 0.1842, Train: 74.09%, Valid: 64.69%, Test: 50.94%\n",
      "---\n",
      "Hits@10\n",
      "Run: 01, Epoch: 77, Loss: 0.1835, Train: 65.36%, Valid: 56.09%, Test: 37.02%\n",
      "Hits@20\n",
      "Run: 01, Epoch: 77, Loss: 0.1835, Train: 72.70%, Valid: 63.31%, Test: 55.85%\n",
      "Hits@30\n",
      "Run: 01, Epoch: 77, Loss: 0.1835, Train: 74.56%, Valid: 65.24%, Test: 71.47%\n",
      "---\n",
      "Hits@10\n",
      "Run: 01, Epoch: 78, Loss: 0.1845, Train: 60.31%, Valid: 51.01%, Test: 28.91%\n",
      "Hits@20\n",
      "Run: 01, Epoch: 78, Loss: 0.1845, Train: 70.85%, Valid: 61.42%, Test: 45.47%\n",
      "Hits@30\n",
      "Run: 01, Epoch: 78, Loss: 0.1845, Train: 75.40%, Valid: 65.91%, Test: 57.55%\n",
      "---\n",
      "Hits@10\n",
      "Run: 01, Epoch: 79, Loss: 0.1830, Train: 66.77%, Valid: 57.56%, Test: 39.89%\n",
      "Hits@20\n",
      "Run: 01, Epoch: 79, Loss: 0.1830, Train: 70.23%, Valid: 60.95%, Test: 51.51%\n",
      "Hits@30\n",
      "Run: 01, Epoch: 79, Loss: 0.1830, Train: 72.78%, Valid: 63.32%, Test: 62.35%\n",
      "---\n",
      "Hits@10\n",
      "Run: 01, Epoch: 80, Loss: 0.1836, Train: 64.87%, Valid: 55.53%, Test: 48.03%\n",
      "Hits@20\n",
      "Run: 01, Epoch: 80, Loss: 0.1836, Train: 69.98%, Valid: 60.49%, Test: 58.86%\n",
      "Hits@30\n",
      "Run: 01, Epoch: 80, Loss: 0.1836, Train: 73.65%, Valid: 64.02%, Test: 66.09%\n",
      "---\n"
     ]
    }
   ],
   "source": [
    "loggers = repeat_experiments(\n",
    "    g, emb, model, predictor, split_idx, \n",
    "    device, train_args, N_runs)"
   ]
  },
  {
   "cell_type": "code",
   "execution_count": 34,
   "id": "1189b96a",
   "metadata": {},
   "outputs": [
    {
     "name": "stdout",
     "output_type": "stream",
     "text": [
      "Hits@10\n",
      "All runs:\n",
      "Highest Train: 73.77 ± 0.94\n",
      "Highest Valid: 63.44 ± 0.97\n",
      "  Final Train: 73.75 ± 0.95\n",
      "   Final Test: 35.28 ± 11.36\n",
      "Hits@20\n",
      "All runs:\n",
      "Highest Train: 78.22 ± 0.48\n",
      "Highest Valid: 67.97 ± 0.47\n",
      "  Final Train: 78.16 ± 0.52\n",
      "   Final Test: 56.20 ± 12.88\n",
      "Hits@30\n",
      "All runs:\n",
      "Highest Train: 79.92 ± 0.35\n",
      "Highest Valid: 69.70 ± 0.32\n",
      "  Final Train: 79.91 ± 0.35\n",
      "   Final Test: 72.48 ± 5.89\n"
     ]
    }
   ],
   "source": [
    "# Final performance\n",
    "for key in loggers.keys():\n",
    "    print(key)\n",
    "    loggers[key].print_statistics()"
   ]
  },
  {
   "cell_type": "code",
   "execution_count": 49,
   "id": "ddcf2fbf",
   "metadata": {},
   "outputs": [
    {
     "data": {
      "image/png": "[encoded data removed]",
      "text/plain": [
       "<Figure size 432x288 with 1 Axes>"
      ]
     },
     "metadata": {
      "needs_background": "light"
     },
     "output_type": "display_data"
    }
   ],
   "source": [
    "# This comparison only makes sense if using ~200 epochs during training\n",
    "norm_plot([\n",
    "    (test_hits_lb, test_hits_lb_std, \"GraphSAGE L.B.\"),\n",
    "    (0.5620, 0.1288, 'GraphSAGE local'),\n",
    "], 'Test Hits@20 Comparison over 10 runs')"
   ]
  },
  {
   "cell_type": "markdown",
   "id": "96194dc3",
   "metadata": {},
   "source": [
    "In my experiments, I observe an average performance that's slightly above the leaderboard's, but with a standard deviation that's 3x as large.  \n",
    "\n",
    "# Improvements with Jumping Knowledge connections\n",
    "In this section we implement [Jumping Knowledge](https://arxiv.org/abs/1806.03536) connections, which allow the model to jointly consider information from different distances/hops from a node.  This is accomplished by aggregating all the intermedite representations of the GNN layers.  Before, we got a node's embedding for the downstream Link Predictor model by taking the output of the *last GNN layer*.  Now, we will directly aggregate the embeddings from *each GNN layer* and use this result as a node's final embedding.  This has a strong impact on the results for this task.\n",
    "\n",
    "The original work presents a number of different ways of combining embeddings from multiple layers.  In our case, we will simply concatenate the embeddings of a node from each layer and then apply a linear projection:\n",
    "\n",
    "$$ \\mathbf{h}_i^{out} = \\mathbf{W}^{out} \\text{concat} \\left( [ \\mathbf{h}_i^0, \\ldots, \\mathbf{h}_i^K ] \\right)$$\n",
    "\n",
    "where $\\mathbf{W}^{out}$ is a learnable projection matrix and $K$ is the number of GNN layers.\n",
    "\n",
    "We will still use the SAGE layer created earlier in this project, but we will change how they are combined.  To get started, I have copy/pasted the `SAGE` model code we used above from the `utils.py` file and merely changed the class name.  Your task will be to modify the logic to include Jumping Knowledge connections and measure the impact."
   ]
  },
  {
   "cell_type": "code",
   "execution_count": 41,
   "id": "268f43ed",
   "metadata": {},
   "outputs": [],
   "source": [
    "class JKSAGE(nn.Module):\n",
    "    \"\"\"\n",
    "    This class is copy/pasted from the SAGE class and needs to be modified\n",
    "    to include Jumping Knowledge connections\n",
    "    \"\"\"\n",
    "    def __init__(self, in_channels, hidden_channels, out_channels, num_layers, dropout, sage_cls):\n",
    "        super(JKSAGE, self).__init__()\n",
    "        # TODO\n",
    "        \"\"\"\n",
    "        Will need to add the linear projection.  Do not use a bias term\n",
    "        for this final linear projection.\n",
    "        \n",
    "        \n",
    "        Arguments\n",
    "        ----------\n",
    "        in_channels : int\n",
    "            Number of input features to the layer\n",
    "        hidden_channels : int\n",
    "            Number of channels in the hidden layers\n",
    "        out_channels : int\n",
    "            Number of desired output features from the layer\n",
    "        num_layers : int\n",
    "            The number of GNN layers\n",
    "        dropout : float\n",
    "            The dropout rate to apply to the hidden layers\n",
    "        sage_cls : nn.Module\n",
    "            The torch Module object that implements GraphSAGE convolution\n",
    "        \"\"\"\n",
    "        \n",
    "        self.convs = nn.ModuleList()\n",
    "        self.convs.append(sage_cls(in_channels, hidden_channels))\n",
    "        for _ in range(num_layers - 2):\n",
    "            self.convs.append(sage_cls(hidden_channels, hidden_channels))\n",
    "        self.convs.append(sage_cls(hidden_channels, out_channels))\n",
    "\n",
    "        self.dropout = dropout\n",
    "\n",
    "    def reset_parameters(self):\n",
    "        # TODO\n",
    "        \"\"\"\n",
    "        Modify to include the new linear layer parameters\n",
    "        \"\"\"\n",
    "        for conv in self.convs:\n",
    "            conv.reset_parameters()\n",
    "            \n",
    "    @property\n",
    "    def num_layers(self):\n",
    "        return len(self.convs)\n",
    "    \n",
    "    def forward(self, gs, x):\n",
    "        # TODO\n",
    "        \"\"\"\n",
    "        The forward pass of the model, which needs to be modified to \n",
    "        include Jumping Knowledge connections.\n",
    "        \n",
    "        Note:  *Each* GraphSAGE layer should have this flow:\n",
    "        \n",
    "            input -> GraphSAGE -> ReLU -> Dropout\n",
    "            \n",
    "        This output of each layer will be used for concatenation.\n",
    "        \n",
    "        \n",
    "        The final output of this method should be a linear projection \n",
    "        of the concatenated set of GNN outputs.  The result of this \n",
    "        final linear projection should be returned directly--no activation \n",
    "        or dropout should be applied.\n",
    "        \n",
    "        Arguments\n",
    "        ----------\n",
    "        gs : DGLGraph or list<DGLBlock>\n",
    "            The graph or minibatch list of blocks used for message passing\n",
    "        x : Tensor\n",
    "            The node features\n",
    "        \"\"\"\n",
    "        h = x\n",
    "\n",
    "        for i, conv in enumerate(self.convs):\n",
    "            if gs.is_block:\n",
    "                g = gs[i]\n",
    "            else:\n",
    "                g = gs  # full graph\n",
    "            h = conv(g, h)\n",
    "            if i != len(self.convs) - 1:\n",
    "                h = F.relu(h)\n",
    "                h = F.dropout(h, p=self.dropout, training=self.training)\n",
    "\n",
    "        return h"
   ]
  },
  {
   "cell_type": "code",
   "execution_count": 42,
   "id": "e1086f92",
   "metadata": {},
   "outputs": [],
   "source": [
    "model_jk = JKSAGE(\n",
    "    num_hidden, num_hidden, num_hidden, num_layers,\n",
    "    dropout, sage_cls=MySage,\n",
    ")"
   ]
  },
  {
   "cell_type": "code",
   "execution_count": 44,
   "id": "f13d7cb5",
   "metadata": {},
   "outputs": [],
   "source": [
    "assert sum(p.numel() for p in model_jk.parameters()) == 393728, \"Number of JKSAGE parameters doesn't match\""
   ]
  },
  {
   "cell_type": "code",
   "execution_count": null,
   "id": "a1598b8a",
   "metadata": {
    "scrolled": true
   },
   "outputs": [],
   "source": [
    "loggers_jk = repeat_experiments(\n",
    "    g, emb, model_jk, predictor, split_idx, \n",
    "    device, train_args, N_runs)"
   ]
  },
  {
   "cell_type": "code",
   "execution_count": 35,
   "id": "f4c7d1ef",
   "metadata": {},
   "outputs": [
    {
     "name": "stdout",
     "output_type": "stream",
     "text": [
      "Hits@10\n",
      "All runs:\n",
      "Highest Train: 72.90 ± 1.19\n",
      "Highest Valid: 63.51 ± 1.14\n",
      "  Final Train: 72.89 ± 1.20\n",
      "   Final Test: 22.91 ± 11.00\n",
      "Hits@20\n",
      "All runs:\n",
      "Highest Train: 77.43 ± 0.57\n",
      "Highest Valid: 67.92 ± 0.52\n",
      "  Final Train: 77.42 ± 0.58\n",
      "   Final Test: 67.11 ± 5.36\n",
      "Hits@30\n",
      "All runs:\n",
      "Highest Train: 78.89 ± 0.33\n",
      "Highest Valid: 69.36 ± 0.32\n",
      "  Final Train: 78.88 ± 0.33\n",
      "   Final Test: 75.47 ± 4.75\n"
     ]
    }
   ],
   "source": [
    "for key in loggers_jk.keys():\n",
    "    print(key)\n",
    "    loggers_jk[key].print_statistics()"
   ]
  },
  {
   "cell_type": "code",
   "execution_count": 48,
   "id": "607c2f86",
   "metadata": {},
   "outputs": [
    {
     "data": {
      "image/png": "[encoded data removed]",
      "text/plain": [
       "<Figure size 432x288 with 1 Axes>"
      ]
     },
     "metadata": {
      "needs_background": "light"
     },
     "output_type": "display_data"
    }
   ],
   "source": [
    "# This comparison only makes sense if using ~200 epochs during training\n",
    "norm_plot([\n",
    "    (test_hits_lb, test_hits_lb_std, \"GraphSAGE L.B.\"),\n",
    "    (0.5620, 0.1288, 'GraphSAGE local'),\n",
    "    (.6711, .0536, 'GraphSAGE+JK')\n",
    "], 'Test Hits@20 Comparison over 10 runs')"
   ]
  },
  {
   "cell_type": "markdown",
   "id": "a8917222",
   "metadata": {},
   "source": [
    "My experiments show a 25% relative performance improvement and a significantly reduced variation compared to my experiments without JK connections.\n",
    "\n",
    "# Extra Credit\n",
    "In general, it's a great use of time to find a submission on the leaderboard that's interesting and figure out how to implement it.  Here are two possible avenues for additional exploration:\n",
    "1. In our Jumping Knowledge connections, instead of concatenating the embeddings of each layer and applying a linear projection to the result, we might instead aggregate our GNN-layer representations by applying an attention mechanism or an RNN, like an LSTM.  \n",
    "2. We might extend our graph with high-confidence edges, as is proposed in the [Edge Proposal Set method](https://arxiv.org/abs/2106.15810).  In it, they essentially use a model to find the high-confidence edges (\"Filter\"), and then add those to the graph before running the actual Link Prediction task (\"Rank\").  In essence, they use a two-step approach in which the first step is pre-processing the graph to find new edges, and the second step runs as we have here, but now with a modified graph topology that will ideally improve performance.  This can be considered a form of \"graph rewiring\", in which the original graph is modified to facilitate better performance on a task.  "
   ]
  }
 ],
 "metadata": {
  "kernelspec": {
   "display_name": "Python 3 (ipykernel)",
   "language": "python",
   "name": "python3"
  },
  "language_info": {
   "codemirror_mode": {
    "name": "ipython",
    "version": 3
   },
   "file_extension": ".py",
   "mimetype": "text/x-python",
   "name": "python",
   "nbconvert_exporter": "python",
   "pygments_lexer": "ipython3",
   "version": "3.10.9"
  }
 },
 "nbformat": 4,
 "nbformat_minor": 5
}
